{
 "cells": [
  {
   "cell_type": "code",
   "execution_count": 1,
   "metadata": {},
   "outputs": [],
   "source": [
    "a = \"Nie lubisz spotkań towarzyskich\"\n",
    "b = \"Denerwuje Cię 90% populacji\"\n",
    "c = \"Twoje szczęście nie ogranicza się tylko do drogich rzeczy\"\n",
    "d = \"Nienawidzisz tego co inni uważają za zabawne\"\n",
    "e = \"Jesteś ofiarą huśtawki nastrojów\"\n",
    "pytania = []"
   ]
  },
  {
   "cell_type": "code",
   "execution_count": 2,
   "metadata": {},
   "outputs": [],
   "source": [
    "def test(os):\n",
    "\n",
    "    lista_pytan = [a, b, c, d, e]\n",
    "    \n",
    "def zadaj_pytanie(a):\n",
    "        \n",
    "    print(a)\n",
    "    x = input(\"Odpowiedź: \")\n",
    "    x = int(x)\n",
    "    if x>5 or x<1:\n",
    "        print(\"Wpisałaś/eś złą liczbę! Zrestartuj i zacznij od początku!\")\n",
    "    else:\n",
    "        return x"
   ]
  },
  {
   "cell_type": "code",
   "execution_count": 4,
   "metadata": {},
   "outputs": [
    {
     "name": "stdout",
     "output_type": "stream",
     "text": [
      "Czy jesteś kotem ?\n",
      "\n",
      "1 - całkowicie się nie zgadzam\n",
      "2 - raczej się nie zgadzam\n",
      "3 - nie wiem\n",
      "4 - raczej się zgadzam\n",
      "5 - całkowicie się zgadzam\n",
      "\n",
      "Nie lubisz spotkań towarzyskich\n"
     ]
    },
    {
     "name": "stdin",
     "output_type": "stream",
     "text": [
      "Odpowiedź:  1\n"
     ]
    },
    {
     "name": "stdout",
     "output_type": "stream",
     "text": [
      "Denerwuje Cię 90% populacji\n"
     ]
    },
    {
     "name": "stdin",
     "output_type": "stream",
     "text": [
      "Odpowiedź:  1\n"
     ]
    },
    {
     "name": "stdout",
     "output_type": "stream",
     "text": [
      "Twoje szczęście nie ogranicza się tylko do drogich rzeczy\n"
     ]
    },
    {
     "name": "stdin",
     "output_type": "stream",
     "text": [
      "Odpowiedź:  1\n"
     ]
    },
    {
     "name": "stdout",
     "output_type": "stream",
     "text": [
      "Nienawidzisz tego co inni uważają za zabawne\n"
     ]
    },
    {
     "name": "stdin",
     "output_type": "stream",
     "text": [
      "Odpowiedź:  1\n"
     ]
    },
    {
     "name": "stdout",
     "output_type": "stream",
     "text": [
      "Jesteś ofiarą huśtawki nastrojów\n"
     ]
    },
    {
     "name": "stdin",
     "output_type": "stream",
     "text": [
      "Odpowiedź:  1\n"
     ]
    },
    {
     "name": "stdout",
     "output_type": "stream",
     "text": [
      "Twój wynik:  5 . Koty uciekają na twój widok\n"
     ]
    }
   ],
   "source": [
    "print(\"Czy jesteś kotem ?\")\n",
    "print(\"\")\n",
    "print(\"1 - całkowicie się nie zgadzam\")\n",
    "print(\"2 - raczej się nie zgadzam\")\n",
    "print(\"3 - nie wiem\")\n",
    "print(\"4 - raczej się zgadzam\")\n",
    "print(\"5 - całkowicie się zgadzam\")\n",
    "print(\"\")\n",
    "\n",
    "pkt = zadaj_pytanie(a)\n",
    "pytania.append(pkt)\n",
    "pkt = zadaj_pytanie(b)\n",
    "pytania.append(pkt)\n",
    "pkt = zadaj_pytanie(c)\n",
    "pytania.append(pkt)\n",
    "pkt = zadaj_pytanie(d)\n",
    "pytania.append(pkt)\n",
    "pkt = zadaj_pytanie(e)\n",
    "pytania.append(pkt)\n",
    "wynik = sum(pytania)\n",
    "wynik = int(wynik)\n",
    "if wynik == 5:\n",
    "    print(\"Twój wynik: \", wynik, \".\", \"Koty uciekają na twój widok\")\n",
    "elif wynik > 5 and wynik < 10:\n",
    "    print(\"Twój wynik: \", wynik, \".\", \"Ehhh no słabo, nie masz nic wspólnego z kotami\")\n",
    "elif wynik >= 10 and wynik < 16:\n",
    "    print(\"Twój wynik: \", wynik, \".\",  \"Jesteś bardzo niezdecydowaną osobą\")\n",
    "elif wynik >= 16 and wynik < 22:\n",
    "    print(\"Twój wynik: \", wynik, \".\", \"Prawdopodobnie masz kota\")\n",
    "elif wynik >=22 and wynik <= 25:\n",
    "    print(\"Twój wynik: \", wynik, \".\", \"Gratuluje! Jesteś kotem\")\n",
    "    \n",
    "if wynik > 0:\n",
    "    pytania.pop(0)\n",
    "    pytania.pop(0)\n",
    "    pytania.pop(0)\n",
    "    pytania.pop(0)\n",
    "    pytania.pop(0)"
   ]
  },
  {
   "cell_type": "code",
   "execution_count": null,
   "metadata": {},
   "outputs": [],
   "source": []
  }
 ],
 "metadata": {
  "kernelspec": {
   "display_name": "Python 3",
   "language": "python",
   "name": "python3"
  },
  "language_info": {
   "codemirror_mode": {
    "name": "ipython",
    "version": 3
   },
   "file_extension": ".py",
   "mimetype": "text/x-python",
   "name": "python",
   "nbconvert_exporter": "python",
   "pygments_lexer": "ipython3",
   "version": "3.7.0"
  }
 },
 "nbformat": 4,
 "nbformat_minor": 2
}
