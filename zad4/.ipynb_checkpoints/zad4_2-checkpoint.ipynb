{
 "cells": [
  {
   "cell_type": "code",
   "execution_count": 15,
   "metadata": {},
   "outputs": [
    {
     "name": "stdin",
     "output_type": "stream",
     "text": [
      "metodologia:  5\n",
      "antomia:  4\n",
      "informatyka:  5\n",
      "psychologia 4\n"
     ]
    },
    {
     "data": {
      "text/plain": [
       "4.5"
      ]
     },
     "execution_count": 15,
     "metadata": {},
     "output_type": "execute_result"
    }
   ],
   "source": [
    "przedmioty = [\"meto\", \"anatomia\", \"it\", \"psychologia\"]\n",
    "\n",
    "oceny = []\n",
    "meto = input(\"metodologia: \")\n",
    "meto = float(meto)\n",
    "oceny.append(meto)\n",
    "\n",
    "anatomia = input(\"antomia: \")\n",
    "anatomia = float(anatomia)\n",
    "oceny.append(anatomia)\n",
    "\n",
    "it = input(\"informatyka: \")\n",
    "it = float(it)\n",
    "oceny.append(it)\n",
    "\n",
    "psychologia = input(\"psychologia\")\n",
    "psychologia = float(psychologia)\n",
    "oceny.append(psychologia)\n",
    "\n",
    "srednia = sum(oceny) / len(przedmioty)\n",
    "srednia"
   ]
  },
  {
   "cell_type": "code",
   "execution_count": null,
   "metadata": {},
   "outputs": [],
   "source": []
  },
  {
   "cell_type": "code",
   "execution_count": null,
   "metadata": {},
   "outputs": [],
   "source": []
  },
  {
   "cell_type": "code",
   "execution_count": null,
   "metadata": {},
   "outputs": [],
   "source": []
  },
  {
   "cell_type": "code",
   "execution_count": null,
   "metadata": {},
   "outputs": [],
   "source": []
  }
 ],
 "metadata": {
  "kernelspec": {
   "display_name": "Python 3",
   "language": "python",
   "name": "python3"
  },
  "language_info": {
   "codemirror_mode": {
    "name": "ipython",
    "version": 3
   },
   "file_extension": ".py",
   "mimetype": "text/x-python",
   "name": "python",
   "nbconvert_exporter": "python",
   "pygments_lexer": "ipython3",
   "version": "3.7.0"
  }
 },
 "nbformat": 4,
 "nbformat_minor": 2
}
