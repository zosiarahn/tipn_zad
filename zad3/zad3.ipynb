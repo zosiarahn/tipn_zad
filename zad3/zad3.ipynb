{
 "cells": [
  {
   "cell_type": "markdown",
   "metadata": {},
   "source": [
    "## Średnia\n",
    "\n",
    "Ten program policzy moją wymyśloną średnią w tym semestrze"
   ]
  },
  {
   "cell_type": "code",
   "execution_count": 15,
   "metadata": {},
   "outputs": [],
   "source": [
    "\n",
    "infa = 5\n",
    "ogolna = 5\n",
    "komunikacja = 5\n",
    "logika = 3\n",
    "filo = 3.5\n",
    "statystyka = 4.0\n",
    "antomia = 4\n",
    "biologiczne = 3.5\n",
    "ang = 3.5\n",
    "metodologia = 4"
   ]
  },
  {
   "cell_type": "code",
   "execution_count": 21,
   "metadata": {},
   "outputs": [
    {
     "data": {
      "text/plain": [
       "'Moja średnia w pierwszym semestrze studiów to 4.05'"
      ]
     },
     "execution_count": 21,
     "metadata": {},
     "output_type": "execute_result"
    }
   ],
   "source": [
    "suma = infa + ogolna + komunikacja + logika + filo + statystyka + antomia + biologiczne + ang + metodologia\n",
    "srednia = suma / 10\n",
    "\"Moja średnia w pierwszym semestrze studiów to \" + str(srednia)"
   ]
  },
  {
   "cell_type": "code",
   "execution_count": null,
   "metadata": {},
   "outputs": [],
   "source": []
  }
 ],
 "metadata": {
  "kernelspec": {
   "display_name": "Python 3",
   "language": "python",
   "name": "python3"
  },
  "language_info": {
   "codemirror_mode": {
    "name": "ipython",
    "version": 3
   },
   "file_extension": ".py",
   "mimetype": "text/x-python",
   "name": "python",
   "nbconvert_exporter": "python",
   "pygments_lexer": "ipython3",
   "version": "3.7.0"
  }
 },
 "nbformat": 4,
 "nbformat_minor": 2
}
